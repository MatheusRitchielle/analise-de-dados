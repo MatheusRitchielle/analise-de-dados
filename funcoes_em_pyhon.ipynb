{
  "nbformat": 4,
  "nbformat_minor": 0,
  "metadata": {
    "colab": {
      "provenance": [],
      "authorship_tag": "ABX9TyM/QF80YBIsnqSdYL9geQNa",
      "include_colab_link": true
    },
    "kernelspec": {
      "name": "python3",
      "display_name": "Python 3"
    },
    "language_info": {
      "name": "python"
    }
  },
  "cells": [
    {
      "cell_type": "markdown",
      "metadata": {
        "id": "view-in-github",
        "colab_type": "text"
      },
      "source": [
        "<a href=\"https://colab.research.google.com/github/MatheusRitchielle/fundamentos-python/blob/main/funcoes_em_pyhon.ipynb\" target=\"_parent\"><img src=\"https://colab.research.google.com/assets/colab-badge.svg\" alt=\"Open In Colab\"/></a>"
      ]
    },
    {
      "cell_type": "markdown",
      "source": [
        "#Declarando funções"
      ],
      "metadata": {
        "id": "zjMpXoUahFeb"
      }
    },
    {
      "cell_type": "code",
      "source": [
        " #Primeiro vamos resolver um problema sem utilização de funções, repetindo código\n",
        "\n",
        " #Define as listas com os números a serem somados\n",
        " l1 = [1, 2, 3, 4, 5]\n",
        " l2 = [3, 1, 5, 9, 0, 8, 2, 3, 4]\n",
        " l3 = [12, 43, 23, 12, 789]\n",
        "\n",
        " #itera sobre cada lista e soma seus elementos\n",
        " soma_l1 = 0\n",
        " for item in l1:\n",
        "   soma_l1 = soma_l1 + item\n",
        "\n",
        "soma_l2 = 0\n",
        "for item in l2:\n",
        "  soma_l2 = soma_l2 + item\n",
        "\n",
        "soma_l3 = 0\n",
        "for item in l3:\n",
        "  soma_l3 = soma_l3 + item\n",
        "\n",
        "print(f'A soma de L1 é:{soma_l1}.\\nA soma de L2 é:{soma_l2}.\\nA soma de L3 é:{soma_l3}.')"
      ],
      "metadata": {
        "id": "BrGp3T9paGF0"
      },
      "execution_count": null,
      "outputs": []
    },
    {
      "cell_type": "code",
      "source": [
        "#Vamos criar uma função que realiza a soma dos itens de uma lista\n",
        "\n",
        "def soma_lista(lista):\n",
        "  soma = 0\n",
        "  for item in lista:\n",
        "    soma = soma + item\n",
        "  return soma"
      ],
      "metadata": {
        "id": "ojMEs9nedn7L"
      },
      "execution_count": 13,
      "outputs": []
    },
    {
      "cell_type": "code",
      "source": [
        "#chama a função para cada lista\n",
        "soma_l1 =  soma_lista(l1)\n",
        "soma_l2 =  soma_lista(l2)\n",
        "soma_l3 =  soma_lista(l3)\n",
        "\n",
        "print(f'l1 = {soma_l1}, l2 = {soma_l2} e l3 = {soma_l3}')"
      ],
      "metadata": {
        "id": "pWhig2MXeP-H"
      },
      "execution_count": null,
      "outputs": []
    },
    {
      "cell_type": "code",
      "source": [
        "def mult_lista(lista):\n",
        "  result = 1\n",
        "  for item in lista:\n",
        "    result = result * item\n",
        "  return result"
      ],
      "metadata": {
        "id": "NiSgpmQVfFTb"
      },
      "execution_count": 17,
      "outputs": []
    },
    {
      "cell_type": "code",
      "source": [
        "mult_l1 = mult_lista(l1)\n",
        "mult_l2 = mult_lista(l2)\n",
        "mult_l3 = mult_lista(l3)\n",
        "\n",
        "print(f'A multiplicação de l1 = {mult_l1}.\\nA multiplicação de l2 = {mult_l2}.\\nA multiplicação de l3 = {mult_l3}')"
      ],
      "metadata": {
        "id": "F41yYoXIfWG7"
      },
      "execution_count": null,
      "outputs": []
    },
    {
      "cell_type": "markdown",
      "source": [
        "#Utilizando funções"
      ],
      "metadata": {
        "id": "2g-5_hXdhOVS"
      }
    },
    {
      "cell_type": "code",
      "source": [
        "#Exibe mensagem de boas vindas\n",
        "def boas_vindas(nome):\n",
        "  print(f'Olá {nome}. Seja bem-vindo(a)!')\n",
        "\n",
        "#Calcula a área de um quadrado: lado x lado\n",
        "\n",
        "def area_quadrado(lado):\n",
        "  return lado * lado\n",
        "\n",
        "#Calcula a area de um triângulo: (base x altura) / 2\n",
        "def area_triangulo(base, altura):\n",
        "  return (base * altura)/2"
      ],
      "metadata": {
        "id": "2153C1rMhXq3"
      },
      "execution_count": 29,
      "outputs": []
    },
    {
      "cell_type": "code",
      "source": [
        "#Realiza a chamada das funções:\n",
        "boas_vindas('Matheus')\n",
        "print(area_triangulo(4, 5))\n",
        "\n",
        "boas_vindas('Maria')\n",
        "boas_vindas('Joana')\n",
        "\n",
        "print(area_quadrado(4))\n",
        "print(area_quadrado(10))\n",
        "\n",
        "boas_vindas('Antônio')\n",
        "print(area_quadrado(10))\n",
        "\n",
        "print(area_triangulo(5, 2))\n",
        "print(area_triangulo(4, 5))"
      ],
      "metadata": {
        "id": "6RujW6IfiyEX"
      },
      "execution_count": null,
      "outputs": []
    },
    {
      "cell_type": "code",
      "source": [
        "#Retorna uma divisão. Se o divisor é zero, retorna uma mensagem de erro.\n",
        "def div(dividendo, divisor):\n",
        "  if divisor == 0:\n",
        "    print('ERRO: Divisor iqual a zero!')\n",
        "    return\n",
        "  return dividendo / divisor\n",
        "\n",
        "#Função similar a função div, mas que retorna o dividento e o resto da divisão\n",
        "def div_qr(dividendo, divisor):\n",
        "  if divisor == 0:\n",
        "    print('ERRO: Divisor iqual a zero!')\n",
        "    return\n",
        "  quociente = dividendo // divisor\n",
        "  resto = dividendo % divisor\n",
        "  return (quociente, resto)"
      ],
      "metadata": {
        "id": "gfr5Ib3MkLMk"
      },
      "execution_count": 34,
      "outputs": []
    },
    {
      "cell_type": "code",
      "source": [
        "print('div(10, 4) ==>', div(10, 4))\n",
        "print('div_qr(10, 4) ==>', div_qr(10, 4))\n",
        "print('div(10, 0) ==>', div(10, 0))"
      ],
      "metadata": {
        "colab": {
          "base_uri": "https://localhost:8080/"
        },
        "id": "UdOmrbmhmIaw",
        "outputId": "0c7b0c68-a748-457f-9215-320b89bb1bf5"
      },
      "execution_count": 36,
      "outputs": [
        {
          "output_type": "stream",
          "name": "stdout",
          "text": [
            "div(10, 4) ==> 2.5\n",
            "div_qr(10, 4) ==> (2, 2)\n",
            "ERRO: Divisor iqual a zero!\n",
            "div(10, 0) ==> None\n"
          ]
        }
      ]
    },
    {
      "cell_type": "code",
      "source": [
        "#atribuição dos multiplos valores em uma variavel única do tipo tupla\n",
        "resultado = div_qr(21, 5)\n",
        "print('resultado', resultado, type(resultado))\n",
        "\n",
        "#atribuição de multiplos valores em variáveis separadas\n",
        "quociente, resto = div_qr(21, 5)\n",
        "print('quociente:', quociente, type(quociente))\n",
        "print('resto:', resto, type(resto))"
      ],
      "metadata": {
        "colab": {
          "base_uri": "https://localhost:8080/"
        },
        "id": "cugmYPbbo2mL",
        "outputId": "e1e69876-3903-4698-9c18-8a6e741a95dc"
      },
      "execution_count": 37,
      "outputs": [
        {
          "output_type": "stream",
          "name": "stdout",
          "text": [
            "resultado (4, 1) <class 'tuple'>\n",
            "quociente: 4 <class 'int'>\n",
            "resto: 1 <class 'int'>\n"
          ]
        }
      ]
    },
    {
      "cell_type": "code",
      "source": [
        "#Reaproveitando um pouco mais de código\n",
        "\n",
        "#Verifica se é um divisor inválido: (divisor == 0)\n",
        "def divisor_invalido(divisor):\n",
        "  if divisor == 0:\n",
        "    print('ERRO: Divisor igual a zero!')\n",
        "    return True\n",
        "  return False\n",
        "\n",
        "#Retorna o resultado de uma divisao\n",
        "def div(dividendo, divisor):\n",
        "  if divisor_invalido(divisor):\n",
        "    return\n",
        "  return dividendo / divisor\n",
        "\n",
        "#Retorna o quociente e o resto da divisão \n",
        "def div_qr(dividendo, divisor):\n",
        "  if divisor_invalido(divisor):\n",
        "    return\n",
        "  quociente = dividendo // divisor\n",
        "  resto = dividendo % divisor\n",
        "  return(quociente,resto)"
      ],
      "metadata": {
        "id": "i501JARAqWOD"
      },
      "execution_count": 48,
      "outputs": []
    },
    {
      "cell_type": "code",
      "source": [
        "div(10,2)\n"
      ],
      "metadata": {
        "colab": {
          "base_uri": "https://localhost:8080/"
        },
        "id": "_b8wyP-QsOYK",
        "outputId": "d5f642cb-e425-4469-f3d7-c790a0c6dfab"
      },
      "execution_count": 49,
      "outputs": [
        {
          "output_type": "execute_result",
          "data": {
            "text/plain": [
              "5.0"
            ]
          },
          "metadata": {},
          "execution_count": 49
        }
      ]
    },
    {
      "cell_type": "markdown",
      "source": [
        "#Argumentos das funções"
      ],
      "metadata": {
        "id": "_GGkS3-OsvPE"
      }
    },
    {
      "cell_type": "code",
      "source": [
        "#Calcula a area de um triângulo: (base x altura)/2\n",
        "\n",
        "def area_triangulo(base, altura):\n",
        "  return (base * altura)/2\n",
        "\n",
        "print(area_triangulo(5,10))  "
      ],
      "metadata": {
        "colab": {
          "base_uri": "https://localhost:8080/"
        },
        "id": "VMswoh8wszkE",
        "outputId": "348f5dcf-d6ba-488e-f55d-8d45f59400a7"
      },
      "execution_count": 50,
      "outputs": [
        {
          "output_type": "stream",
          "name": "stdout",
          "text": [
            "25.0\n"
          ]
        }
      ]
    },
    {
      "cell_type": "code",
      "source": [
        "print(area_triangulo(altura=10, base=5 ))"
      ],
      "metadata": {
        "colab": {
          "base_uri": "https://localhost:8080/"
        },
        "id": "MR_IvxMjtYQh",
        "outputId": "97257e8d-1cb7-4afc-8d41-48dbe1caf4e0"
      },
      "execution_count": 51,
      "outputs": [
        {
          "output_type": "stream",
          "name": "stdout",
          "text": [
            "25.0\n"
          ]
        }
      ]
    },
    {
      "cell_type": "code",
      "source": [
        "print(area_triangulo(5,3))"
      ],
      "metadata": {
        "colab": {
          "base_uri": "https://localhost:8080/"
        },
        "id": "MgWOnztjtgWm",
        "outputId": "27df5275-517c-4b80-d7b4-f3d4538081b3"
      },
      "execution_count": 54,
      "outputs": [
        {
          "output_type": "stream",
          "name": "stdout",
          "text": [
            "7.5\n"
          ]
        }
      ]
    },
    {
      "cell_type": "code",
      "source": [
        "#argumento padrão (default)\n",
        "def exibe_pessoa(nome, idade=24):\n",
        "  print(f'Meu nome é {nome} e tenho {idade} anos')\n",
        "\n",
        "exibe_pessoa('Matheus')\n",
        "exibe_pessoa('Matheus', 36)"
      ],
      "metadata": {
        "colab": {
          "base_uri": "https://localhost:8080/"
        },
        "id": "3w3W-ap8tk2I",
        "outputId": "2ecf75b2-bb32-4cb9-e356-1f9226be039f"
      },
      "execution_count": 53,
      "outputs": [
        {
          "output_type": "stream",
          "name": "stdout",
          "text": [
            "Meu nome é Matheus e tenho 24 anos\n",
            "Meu nome é Matheus e tenho 36 anos\n"
          ]
        }
      ]
    }
  ]
}