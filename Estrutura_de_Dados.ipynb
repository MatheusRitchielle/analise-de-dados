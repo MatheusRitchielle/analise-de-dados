{
  "nbformat": 4,
  "nbformat_minor": 0,
  "metadata": {
    "colab": {
      "provenance": [],
      "collapsed_sections": [
        "CLYAKhE0mkSA",
        "Ogi2MsQ6mhod",
        "YMouYrzTiB0m",
        "qwFJO7cFmSTv",
        "COPMBuxPm52T",
        "GmGqBeZ6rPMx",
        "Z2mVL1Jx-6sm"
      ],
      "toc_visible": true,
      "authorship_tag": "ABX9TyMsDakvP3inT44MEi76xs3f",
      "include_colab_link": true
    },
    "kernelspec": {
      "name": "python3",
      "display_name": "Python 3"
    },
    "language_info": {
      "name": "python"
    }
  },
  "cells": [
    {
      "cell_type": "markdown",
      "metadata": {
        "id": "view-in-github",
        "colab_type": "text"
      },
      "source": [
        "<a href=\"https://colab.research.google.com/github/MatheusRitchielle/fundamentos-python/blob/main/Estrutura_de_Dados.ipynb\" target=\"_parent\"><img src=\"https://colab.research.google.com/assets/colab-badge.svg\" alt=\"Open In Colab\"/></a>"
      ]
    },
    {
      "cell_type": "markdown",
      "source": [
        "#Lista"
      ],
      "metadata": {
        "id": "CLYAKhE0mkSA"
      }
    },
    {
      "cell_type": "code",
      "execution_count": null,
      "metadata": {
        "id": "CwA1q6OJZRi8"
      },
      "outputs": [],
      "source": [
        "lista1 = [1, 2, 3, 4]\n",
        "lista2 = [4, 3, 2, 1]\n",
        "lista3 = [1, 2, 3, 4]\n",
        "print(lista1)\n",
        "print(lista2)"
      ]
    },
    {
      "cell_type": "code",
      "source": [
        "lista1 == lista3"
      ],
      "metadata": {
        "id": "4J5BYGXzbryx"
      },
      "execution_count": null,
      "outputs": []
    },
    {
      "cell_type": "code",
      "source": [
        "['um', 'dois', None, 4]"
      ],
      "metadata": {
        "id": "eAH9dcyDbv56"
      },
      "execution_count": null,
      "outputs": []
    },
    {
      "cell_type": "code",
      "source": [
        "l = [0, 1]\n",
        "[l, 'dois', 'três', [4, 5, l], 'seis']"
      ],
      "metadata": {
        "id": "L9dqOXoRcIsx"
      },
      "execution_count": null,
      "outputs": []
    },
    {
      "cell_type": "code",
      "source": [
        "l = []\n",
        "l"
      ],
      "metadata": {
        "id": "0Ju5qGBgcfST"
      },
      "execution_count": null,
      "outputs": []
    },
    {
      "cell_type": "code",
      "source": [
        "lista = [2, 'a', 5.44, True, None, 'casa'] \n",
        "#Acesso por indices\n",
        "print(lista[0])\n",
        "print(lista[3])\n",
        "print(lista[-1])\n"
      ],
      "metadata": {
        "id": "DeD29wTEckpx"
      },
      "execution_count": null,
      "outputs": []
    },
    {
      "cell_type": "code",
      "source": [
        "#acesso por slices\n",
        "print(lista[1:4])\n",
        "print(lista[-2:])\n",
        "print(lista[:])"
      ],
      "metadata": {
        "id": "FtsaiwWqdHC3"
      },
      "execution_count": null,
      "outputs": []
    },
    {
      "cell_type": "code",
      "source": [
        "#cria uma lista para armazenar 3 idades\n",
        "idades = [27, 49, 12, 67, 21, 32, 18, 45, 84, 53, 22, 56, 80, 35, 18]\n",
        "\n",
        "maior_idade = idades[0]\n",
        "for idade in idades:\n",
        "  if idade > maior_idade:\n",
        "    maior_idade = idade\n",
        "\n",
        "print('A maior idade é de:', maior_idade)    "
      ],
      "metadata": {
        "id": "Sv8-zOKedPvS"
      },
      "execution_count": null,
      "outputs": []
    },
    {
      "cell_type": "code",
      "source": [
        "lista.remove(999)\n",
        "print(lista)"
      ],
      "metadata": {
        "id": "ww0iapaldfaB"
      },
      "execution_count": null,
      "outputs": []
    },
    {
      "cell_type": "code",
      "source": [
        "lista.append(None)\n",
        "lista.append(21/2)"
      ],
      "metadata": {
        "id": "5yttg1jWfT5E"
      },
      "execution_count": null,
      "outputs": []
    },
    {
      "cell_type": "code",
      "source": [
        "lista.append(2 == 5/2)\n",
        "print(lista)"
      ],
      "metadata": {
        "id": "6HXdwiHtfyTW"
      },
      "execution_count": null,
      "outputs": []
    },
    {
      "cell_type": "markdown",
      "source": [
        "#Tuplas"
      ],
      "metadata": {
        "id": "Ogi2MsQ6mhod"
      }
    },
    {
      "cell_type": "code",
      "source": [
        "#O tipo lista usamos [ ] e no tipo tupla usamos ( )\n",
        "\n",
        "#Tipo tupla\n",
        "tupla = (1, 2, 3, 4)\n",
        "print(tupla)"
      ],
      "metadata": {
        "id": "gQCFAcC_fupN"
      },
      "execution_count": null,
      "outputs": []
    },
    {
      "cell_type": "code",
      "source": [
        "t1 = (30, 10, 20)\n",
        "t2 = (2, 'a', 5.44, True)\n",
        "#Operações de concatenação (+), repetição (*) e filiação (in)\n",
        "print(t1 + t2)\n",
        "print(t1 * 3)\n",
        "print(10 in t1)"
      ],
      "metadata": {
        "id": "SgqxGA0ndXVv"
      },
      "execution_count": null,
      "outputs": []
    },
    {
      "cell_type": "code",
      "source": [
        "#Funções uteis\n",
        "print(len(t2)) #len: retorna a quantidade de elementos do tupla\n",
        "\n",
        "#só pode ser utilizados em tuplas de tipos numéricos\n",
        "print(min(t1)) #min: retorna o menor valor da tupla\n",
        "print(max(t1)) #max: retorna o maior valr da tupla\n",
        "print(sum(t1)) #sum: faz a soma de todos os valores da tupla\n"
      ],
      "metadata": {
        "id": "_jR7A7z0dyvj"
      },
      "execution_count": null,
      "outputs": []
    },
    {
      "cell_type": "code",
      "source": [
        "#métodos que retorna valores\n",
        "print(t1.index(20)) #index: retorna o indice da primeira ocorrência do elemento.\n",
        "print(t2.count('a')) #count: conta as ocorrências do elemento.\n"
      ],
      "metadata": {
        "colab": {
          "base_uri": "https://localhost:8080/"
        },
        "id": "aNJBANzXes4L",
        "outputId": "17dfaa63-3bca-4ef1-a10c-22a4f73f20af"
      },
      "execution_count": null,
      "outputs": [
        {
          "output_type": "stream",
          "name": "stdout",
          "text": [
            "2\n",
            "1\n"
          ]
        }
      ]
    },
    {
      "cell_type": "code",
      "source": [
        "#Tuplas são imutaveis, e por isso os seus valores não podem ser alterdados(Não pode ser removidos, adicionados ou atualizados.)\n",
        "#Tuplas são mais rápidas que as listas\n",
        "#Tuplas são mais seguras\n",
        "#Tuplas podem ser usadas como chaves de dicionários.\n"
      ],
      "metadata": {
        "id": "hrjqcEfZfKee"
      },
      "execution_count": null,
      "outputs": []
    },
    {
      "cell_type": "markdown",
      "source": [
        "#Criação de conjuntos\n"
      ],
      "metadata": {
        "id": "YMouYrzTiB0m"
      }
    },
    {
      "cell_type": "code",
      "source": [
        "#TIPOS DE CONJUNTOS\n",
        "\n",
        "# União - junta todos os dados A + B  | Interseção - dados e questão em A e B| Diferença - Os dados que estão em A e não estão em B"
      ],
      "metadata": {
        "id": "6tRIlJFDfnyl"
      },
      "execution_count": null,
      "outputs": []
    },
    {
      "cell_type": "code",
      "source": [
        "c = {4, 0, 3, 1}\n",
        "print(c)"
      ],
      "metadata": {
        "colab": {
          "base_uri": "https://localhost:8080/"
        },
        "id": "Yv9qMF2wg8Zb",
        "outputId": "a9822826-57e4-4e9e-a4b7-31c0b0c065b3"
      },
      "execution_count": null,
      "outputs": [
        {
          "output_type": "stream",
          "name": "stdout",
          "text": [
            "{0, 1, 3, 4}\n"
          ]
        }
      ]
    },
    {
      "cell_type": "code",
      "source": [
        "#criação de conjunto homogêneo\n",
        "c1 = {3, 0, 1, 4, 3, 3, 3, 3}\n",
        "print(c1)"
      ],
      "metadata": {
        "colab": {
          "base_uri": "https://localhost:8080/"
        },
        "id": "pAoW_hALhDPC",
        "outputId": "a72af292-7296-460e-9258-5dbb6aa83890"
      },
      "execution_count": null,
      "outputs": [
        {
          "output_type": "stream",
          "name": "stdout",
          "text": [
            "{0, 1, 3, 4}\n"
          ]
        }
      ]
    },
    {
      "cell_type": "code",
      "source": [
        "c2 = {2, 1, 4, 3, 0}\n",
        "print(c2)"
      ],
      "metadata": {
        "colab": {
          "base_uri": "https://localhost:8080/"
        },
        "id": "FbUzD0MDhaHj",
        "outputId": "0ad730ee-18a9-4891-8470-279969954ab6"
      },
      "execution_count": null,
      "outputs": [
        {
          "output_type": "stream",
          "name": "stdout",
          "text": [
            "{0, 1, 2, 3, 4}\n"
          ]
        }
      ]
    },
    {
      "cell_type": "code",
      "source": [
        "c3 = {2, 'a', 5.44, True, None}\n",
        "print(c3)"
      ],
      "metadata": {
        "colab": {
          "base_uri": "https://localhost:8080/"
        },
        "id": "hOZuUc6ghhFu",
        "outputId": "385c9618-b2db-49d5-e3f8-b0557995e642"
      },
      "execution_count": null,
      "outputs": [
        {
          "output_type": "stream",
          "name": "stdout",
          "text": [
            "{None, True, 2, 5.44, 'a'}\n"
          ]
        }
      ]
    },
    {
      "cell_type": "code",
      "source": [],
      "metadata": {
        "id": "XbsZXvbdhqun"
      },
      "execution_count": null,
      "outputs": []
    },
    {
      "cell_type": "markdown",
      "source": [
        "# Operações com conjuntos"
      ],
      "metadata": {
        "id": "qwFJO7cFmSTv"
      }
    },
    {
      "cell_type": "code",
      "source": [
        "#Criação de conjuntos A e B\n",
        "A = {1, 2, 3, 4, 5}\n",
        "B = {4, 5, 6, 7, 8}\n",
        "print('A =>', A)\n",
        "print('B =>', B)"
      ],
      "metadata": {
        "colab": {
          "base_uri": "https://localhost:8080/"
        },
        "id": "zwoU5lWaiiRU",
        "outputId": "3d70a925-d90e-4f32-ca20-661b8b16f2ae"
      },
      "execution_count": null,
      "outputs": [
        {
          "output_type": "stream",
          "name": "stdout",
          "text": [
            "A => {1, 2, 3, 4, 5}\n",
            "B => {4, 5, 6, 7, 8}\n"
          ]
        }
      ]
    },
    {
      "cell_type": "code",
      "source": [
        "#Operação de união: (A U B)\n",
        "print('A | B =>', A | B)\n",
        "print('A.union(B) =>', A.union(B))"
      ],
      "metadata": {
        "colab": {
          "base_uri": "https://localhost:8080/"
        },
        "id": "o58MQZKGjIhn",
        "outputId": "9e5f1791-73e3-452b-94d8-d192b51e131f"
      },
      "execution_count": null,
      "outputs": [
        {
          "output_type": "stream",
          "name": "stdout",
          "text": [
            "A | B => {1, 2, 3, 4, 5, 6, 7, 8}\n",
            "A.union(B) => {1, 2, 3, 4, 5, 6, 7, 8}\n"
          ]
        }
      ]
    },
    {
      "cell_type": "code",
      "source": [
        "#Operação de interseção: (A ∩ B)\n",
        "print('A & B =>', A & B)\n",
        "print('A.intersection(B) =>', A.intersection(B))"
      ],
      "metadata": {
        "colab": {
          "base_uri": "https://localhost:8080/"
        },
        "id": "O7zoni9JjgtO",
        "outputId": "70e15d09-4e28-4249-eb30-b4809a38845b"
      },
      "execution_count": null,
      "outputs": [
        {
          "output_type": "stream",
          "name": "stdout",
          "text": [
            "A & B => {4, 5}\n",
            "A.intersection(B) => {4, 5}\n"
          ]
        }
      ]
    },
    {
      "cell_type": "code",
      "source": [
        "#Opreação de diferença:  (A - B) e (B - A)\n",
        "print('A - B =>', A -B)\n",
        "print('A.difference(B) =>', A.difference(B))\n",
        "print('')\n",
        "print('B - A =>', B -A)\n",
        "print('B.difference(A) =>', B.difference(A))"
      ],
      "metadata": {
        "colab": {
          "base_uri": "https://localhost:8080/"
        },
        "id": "gZgho0TkkC7R",
        "outputId": "0a3279ad-7d72-4aae-d848-d2c73c54d4c9"
      },
      "execution_count": null,
      "outputs": [
        {
          "output_type": "stream",
          "name": "stdout",
          "text": [
            "A - B => {1, 2, 3}\n",
            "A.difference(B) => {1, 2, 3}\n",
            "\n",
            "B - A => {8, 6, 7}\n",
            "B.difference(A) => {8, 6, 7}\n"
          ]
        }
      ]
    },
    {
      "cell_type": "markdown",
      "source": [
        "#Métodos e funções de conjuntos"
      ],
      "metadata": {
        "id": "COPMBuxPm52T"
      }
    },
    {
      "cell_type": "code",
      "source": [
        "#Criação dos conjuntos c1, c2 e c3\n",
        "c1 = {1, 2, 3, 4, 5}\n",
        "c2 = {4, 5}\n",
        "c3 = {91, 92, 93}"
      ],
      "metadata": {
        "id": "b2EjGZiOm_1K"
      },
      "execution_count": null,
      "outputs": []
    },
    {
      "cell_type": "code",
      "source": [
        "#Adicona um elemento ao conjunto\n",
        "c1.add(6)\n",
        "print(c1)"
      ],
      "metadata": {
        "colab": {
          "base_uri": "https://localhost:8080/"
        },
        "id": "RKa4UfD7nFuB",
        "outputId": "89dd3ac9-04d9-4dc7-9bf8-a43866b41a36"
      },
      "execution_count": null,
      "outputs": [
        {
          "output_type": "stream",
          "name": "stdout",
          "text": [
            "{1, 2, 3, 4, 5, 6}\n"
          ]
        }
      ]
    },
    {
      "cell_type": "code",
      "source": [
        "#Adiciona elementos a uma sequência interável || Adiciona apenas o que é novo\n",
        "c1.update([2, 4, 6, 8])\n",
        "print(c1)"
      ],
      "metadata": {
        "colab": {
          "base_uri": "https://localhost:8080/"
        },
        "id": "2uwpAuNonaBm",
        "outputId": "397d26b2-23d9-4f6f-aeda-e17561bc2740"
      },
      "execution_count": null,
      "outputs": [
        {
          "output_type": "stream",
          "name": "stdout",
          "text": [
            "{1, 2, 3, 4, 5, 6, 8}\n"
          ]
        }
      ]
    },
    {
      "cell_type": "code",
      "source": [
        "#Remove\n",
        "c1.remove(5)\n",
        "print(c1)"
      ],
      "metadata": {
        "colab": {
          "base_uri": "https://localhost:8080/"
        },
        "id": "KfMvJRebqBG-",
        "outputId": "3923f123-e6dd-456d-8913-feab1e9e15ce"
      },
      "execution_count": null,
      "outputs": [
        {
          "output_type": "stream",
          "name": "stdout",
          "text": [
            "{1, 2, 3, 4, 6}\n"
          ]
        }
      ]
    },
    {
      "cell_type": "code",
      "source": [
        "#Descarta um elemento do conjunto\n",
        "c1.discard(8)\n",
        "print(c1)"
      ],
      "metadata": {
        "colab": {
          "base_uri": "https://localhost:8080/"
        },
        "id": "Pun4VPxLnmru",
        "outputId": "d53e27b1-0979-4b01-bc9a-89f81cec832e"
      },
      "execution_count": null,
      "outputs": [
        {
          "output_type": "stream",
          "name": "stdout",
          "text": [
            "{1, 2, 3, 4, 6}\n"
          ]
        }
      ]
    },
    {
      "cell_type": "code",
      "source": [
        "#Diferentemente do set.remove(), o discard não gera erro se o elemento a ser removido não existir\n",
        "c1.discard(99)\n",
        "print(c1)"
      ],
      "metadata": {
        "colab": {
          "base_uri": "https://localhost:8080/"
        },
        "id": "u-moYefunz8w",
        "outputId": "c6614b33-7d5d-4481-95a9-b074a8f055fc"
      },
      "execution_count": null,
      "outputs": [
        {
          "output_type": "stream",
          "name": "stdout",
          "text": [
            "{1, 2, 3, 4, 6}\n"
          ]
        }
      ]
    },
    {
      "cell_type": "code",
      "source": [
        "#Verifica se os conjuntos são disjuntos, ou seja se não possuem NENHUM elemento em comum\n",
        "print(c1.isdisjoint(c2))\n",
        "print(c1.isdisjoint(c3))"
      ],
      "metadata": {
        "colab": {
          "base_uri": "https://localhost:8080/"
        },
        "id": "pme3NGMAoOU8",
        "outputId": "0d9a18b6-1e13-4579-b7fe-a4b7e832044c"
      },
      "execution_count": null,
      "outputs": [
        {
          "output_type": "stream",
          "name": "stdout",
          "text": [
            "False\n",
            "True\n"
          ]
        }
      ]
    },
    {
      "cell_type": "code",
      "source": [
        "#Verifica se o conjunto é subconjunto de outro\n",
        "print(c1.issubset(c2))\n",
        "print(c1.issubset(c3))"
      ],
      "metadata": {
        "colab": {
          "base_uri": "https://localhost:8080/"
        },
        "id": "dR4m3PGqon9C",
        "outputId": "ee7d415f-827a-4e55-b1f2-23d8efae0ee0"
      },
      "execution_count": null,
      "outputs": [
        {
          "output_type": "stream",
          "name": "stdout",
          "text": [
            "False\n",
            "False\n"
          ]
        }
      ]
    },
    {
      "cell_type": "code",
      "source": [
        "#Verifica se o conjunto contém outro conjunto(superset)\n",
        "print(c1.issuperset(c2))\n",
        "print(c2.issuperset(c1))"
      ],
      "metadata": {
        "colab": {
          "base_uri": "https://localhost:8080/"
        },
        "id": "G_2GLa7Io1YR",
        "outputId": "bbeab35d-1894-47de-f1c7-2751f5f36aac"
      },
      "execution_count": null,
      "outputs": [
        {
          "output_type": "stream",
          "name": "stdout",
          "text": [
            "True\n",
            "False\n"
          ]
        }
      ]
    },
    {
      "cell_type": "markdown",
      "source": [
        "#Exemplos práticos com conjuntos"
      ],
      "metadata": {
        "id": "GmGqBeZ6rPMx"
      }
    },
    {
      "cell_type": "code",
      "source": [
        "#Resolução do problema 1 com listas\n",
        "#RESTULTADO TERÁ ALUNOS REPETIDOS\n",
        "\n",
        "#Criação das listas de alunos das turmas\n",
        "ING = ['Gabriel', 'Caio', 'Maria', 'Ana', 'Juliano', 'Flávia', 'Rubens', 'Bruna']\n",
        "ESP = ['Caio', 'Artur', 'Beatriz', 'Carolina', 'Maria', 'Juliano', 'Bruna', 'Rui']\n",
        "FRA = ['Pedro', 'Bruna', 'Paula', 'Tiago', 'Maria', 'Flávia', 'Rui', 'Carolina']\n",
        "\n",
        "#Concatenação de todas as listas de alunos\n",
        "TODOS = ING + ESP + FRA\n",
        "\n",
        "#Ordenação para melhor viualização\n",
        "TODOS.sort()\n",
        "\n",
        "#Exibição do resultado\n",
        "print('Relação de todos os alunos da escola')\n",
        "print(TODOS)"
      ],
      "metadata": {
        "colab": {
          "base_uri": "https://localhost:8080/"
        },
        "id": "WT9xwvckrTiF",
        "outputId": "2a3a9877-e481-4a42-fb74-54421810d742"
      },
      "execution_count": null,
      "outputs": [
        {
          "output_type": "stream",
          "name": "stdout",
          "text": [
            "Relação de todos os alunos da escola\n",
            "['Ana', 'Artur', 'Beatriz', 'Bruna', 'Bruna', 'Bruna', 'Caio', 'Caio', 'Carolina', 'Carolina', 'Flávia', 'Flávia', 'Gabriel', 'Juliano', 'Juliano', 'Maria', 'Maria', 'Maria', 'Paula', 'Pedro', 'Rubens', 'Rui', 'Rui', 'Tiago']\n"
          ]
        }
      ]
    },
    {
      "cell_type": "code",
      "source": [
        "#Resolução do problema 1 com conjuntos\n",
        "#RESTULTADO TERÁ ALUNOS REPETIDOS\n",
        "\n",
        "#Criação das listas de alunos das turmas\n",
        "ING = {'Gabriel', 'Caio', 'Maria', 'Ana', 'Juliano', 'Flávia', 'Rubens', 'Bruna'}\n",
        "ESP = {'Caio', 'Artur', 'Beatriz', 'Carolina', 'Maria', 'Juliano', 'Bruna', 'Rui'}\n",
        "FRA = {'Pedro', 'Bruna', 'Paula', 'Tiago', 'Maria', 'Flávia', 'Rui', 'Carolina'}\n",
        "\n",
        "#Concatenação de todas as listas de alunos\n",
        "TODOS = ING | ESP | FRA\n",
        "\n",
        "#Exibição do resultado\n",
        "print('Relação de todos os alunos da escola')\n",
        "print(TODOS)"
      ],
      "metadata": {
        "colab": {
          "base_uri": "https://localhost:8080/"
        },
        "id": "p-xszsVtu7GA",
        "outputId": "79a58914-e3f6-4827-c22e-3e6abdf4bb12"
      },
      "execution_count": null,
      "outputs": [
        {
          "output_type": "stream",
          "name": "stdout",
          "text": [
            "Relação de todos os alunos da escola\n",
            "{'Gabriel', 'Rui', 'Tiago', 'Rubens', 'Artur', 'Caio', 'Flávia', 'Ana', 'Carolina', 'Pedro', 'Beatriz', 'Paula', 'Maria', 'Bruna', 'Juliano'}\n"
          ]
        }
      ]
    },
    {
      "cell_type": "code",
      "source": [
        "#Resolução do problema 2 com conjuntos\n",
        "ING = {'Gabriel', 'Caio', 'Maria', 'Ana', 'Juliano', 'Flávia', 'Rubens', 'Bruna'}\n",
        "ESP = {'Caio', 'Artur', 'Beatriz', 'Carolina', 'Maria', 'Juliano', 'Bruna', 'Rui'}\n",
        "FRA = {'Pedro', 'Bruna', 'Paula', 'Tiago', 'Maria', 'Flávia', 'Rui', 'Carolina'}\n",
        "\n",
        "# 1 - Interseção entre os pares de turmas: (ING & ESP), (ING & FRA) e  (ESP & FRA)\n",
        "# 2 - Calcula a união das interseções\n",
        "\n",
        "ALUNOS_DESCONTOS = (ING & ESP) | (ING & FRA) | (ESP & FRA) \n",
        "#Exibição do resultado\n",
        "print('Relaçaõ dos alunos com descontos:')\n",
        "print(ALUNOS_DESCONTOS)"
      ],
      "metadata": {
        "colab": {
          "base_uri": "https://localhost:8080/"
        },
        "id": "Ce9Q6N0js7GG",
        "outputId": "c7ca2b25-1b92-4f44-ea38-3840255e5056"
      },
      "execution_count": null,
      "outputs": [
        {
          "output_type": "stream",
          "name": "stdout",
          "text": [
            "Relaçaõ dos alunos com descontos:\n",
            "{'Carolina', 'Rui', 'Juliano', 'Maria', 'Bruna', 'Caio', 'Flávia'}\n"
          ]
        }
      ]
    },
    {
      "cell_type": "code",
      "source": [
        "ING & ESP"
      ],
      "metadata": {
        "colab": {
          "base_uri": "https://localhost:8080/"
        },
        "id": "NdHqTuDHv2mJ",
        "outputId": "27d01589-81e0-4016-8645-a95360bf60aa"
      },
      "execution_count": null,
      "outputs": [
        {
          "output_type": "execute_result",
          "data": {
            "text/plain": [
              "{'Bruna', 'Caio', 'Juliano', 'Maria'}"
            ]
          },
          "metadata": {},
          "execution_count": 46
        }
      ]
    },
    {
      "cell_type": "code",
      "source": [
        "ING & FRA"
      ],
      "metadata": {
        "colab": {
          "base_uri": "https://localhost:8080/"
        },
        "id": "Nir2T-p-wFWT",
        "outputId": "ec202c5a-dbd2-4381-b178-c1bf391e6734"
      },
      "execution_count": null,
      "outputs": [
        {
          "output_type": "execute_result",
          "data": {
            "text/plain": [
              "{'Bruna', 'Flávia', 'Maria'}"
            ]
          },
          "metadata": {},
          "execution_count": 47
        }
      ]
    },
    {
      "cell_type": "code",
      "source": [
        "ESP & FRA"
      ],
      "metadata": {
        "colab": {
          "base_uri": "https://localhost:8080/"
        },
        "id": "rWO5Mw1-wJhj",
        "outputId": "64e92562-1f11-4811-c415-d5d1e4cab935"
      },
      "execution_count": null,
      "outputs": [
        {
          "output_type": "execute_result",
          "data": {
            "text/plain": [
              "{'Bruna', 'Carolina', 'Maria', 'Rui'}"
            ]
          },
          "metadata": {},
          "execution_count": 48
        }
      ]
    },
    {
      "cell_type": "markdown",
      "source": [
        "#Dicionário (dict)"
      ],
      "metadata": {
        "id": "Z2mVL1Jx-6sm"
      }
    },
    {
      "cell_type": "code",
      "source": [
        "#Cada item é composto por uma chave e um valor\n",
        "\n",
        "#Dicionario onde as chaves são do tipo string\n",
        "d1 = {'nome': 'Antônio', 'idade': 36, 'sexo': 'masculino'}\n",
        "print(d1)"
      ],
      "metadata": {
        "id": "KrwqFJny_DGy"
      },
      "execution_count": null,
      "outputs": []
    },
    {
      "cell_type": "code",
      "source": [
        "#Dicionário onde as chaves são do tipo inteiro\n",
        "d2 = {2:'dois', 1:'um', 4:'quatro', 3:'três', 0:'zero'}\n",
        "print(d2)"
      ],
      "metadata": {
        "id": "P6ViPSsa_kn9"
      },
      "execution_count": null,
      "outputs": []
    },
    {
      "cell_type": "code",
      "source": [
        "#Dicionário com as chaves e valores de tipos mistos\n",
        "d3 = {2:'a', 5.44:True, 'Key':None}\n",
        "print(d3)"
      ],
      "metadata": {
        "id": "GF-mzLUR_2co"
      },
      "execution_count": null,
      "outputs": []
    },
    {
      "cell_type": "code",
      "source": [
        "#Dicionário vazio\n",
        "d4 = {}\n",
        "print(d4)"
      ],
      "metadata": {
        "id": "WqoEOAhOAJzL"
      },
      "execution_count": null,
      "outputs": []
    },
    {
      "cell_type": "code",
      "source": [
        "#Criação de dicionários\n",
        "d1 = {2:'dois', 1:'um', 4:'quatro', 3:'três', 0:'zero'}\n",
        "d2 = {'nome': 'Matheus', 'idade': 24, 'sexo': 'masculino'}\n",
        "\n",
        "#Acessando elementos\n",
        "#Os acessos são feitos através da chave\n",
        "\n",
        "print(d1[0])\n",
        "print(d1[2])\n",
        "print('\\nMeu nome é', d2['nome'], 'e tenho', d2['idade'], 'anos.')"
      ],
      "metadata": {
        "colab": {
          "base_uri": "https://localhost:8080/"
        },
        "id": "yeyTmKzUA5BR",
        "outputId": "1a7f0fa0-0265-4b04-a876-1b2b71fa09e0"
      },
      "execution_count": null,
      "outputs": [
        {
          "output_type": "stream",
          "name": "stdout",
          "text": [
            "zero\n",
            "dois\n",
            "Meu nome é Matheus e tenho 24 anos.\n"
          ]
        }
      ]
    },
    {
      "cell_type": "markdown",
      "source": [
        "#Operações com dicionários"
      ],
      "metadata": {
        "id": "s00EtvLACWm7"
      }
    },
    {
      "cell_type": "code",
      "source": [
        "#Atualização de valor com a chave nome\n",
        "d1['nome'] = 'Matheus Ritchielle'\n",
        "print(d1)"
      ],
      "metadata": {
        "colab": {
          "base_uri": "https://localhost:8080/"
        },
        "id": "Ehah62omCZuX",
        "outputId": "f58cc7bd-c5d2-488e-b6a9-659b6b08fbb7"
      },
      "execution_count": null,
      "outputs": [
        {
          "output_type": "stream",
          "name": "stdout",
          "text": [
            "{2: 'dois', 1: 'um', 4: 'quatro', 3: 'três', 0: 'zero', 'nome': 'Matheus Ritchielle'}\n"
          ]
        }
      ]
    },
    {
      "cell_type": "code",
      "source": [
        "#Adição da chave endereço\n",
        "d1['endereço'] = 'Rua acre'\n",
        "print(d1)"
      ],
      "metadata": {
        "colab": {
          "base_uri": "https://localhost:8080/"
        },
        "id": "AwnsZlonC98z",
        "outputId": "58916a53-e9ce-44e0-c5d1-2f71a53fffa4"
      },
      "execution_count": null,
      "outputs": [
        {
          "output_type": "stream",
          "name": "stdout",
          "text": [
            "{2: 'dois', 1: 'um', 4: 'quatro', 3: 'três', 0: 'zero', 'nome': 'Matheus Ritchielle', 'endereço': 'Rua acre'}\n"
          ]
        }
      ]
    },
    {
      "cell_type": "code",
      "source": [
        "#Cria o dicionário\n",
        "d1 = {'zero': 0, 'um': 1, 'dois': 2, 'tres': 3, 'quatro': 4}\n",
        "print(d1)"
      ],
      "metadata": {
        "colab": {
          "base_uri": "https://localhost:8080/"
        },
        "id": "vcgs7F5xDIhn",
        "outputId": "432c23fb-0fab-478c-a2ce-139eba708613"
      },
      "execution_count": null,
      "outputs": [
        {
          "output_type": "stream",
          "name": "stdout",
          "text": [
            "{'zero': 0, 'um': 1, 'dois': 2, 'tres': 3, 'quatro': 4}\n"
          ]
        }
      ]
    },
    {
      "cell_type": "code",
      "source": [
        "#Encontra a menor a e maior chave\n",
        "print(f'Maior chave {max(d1)} e a menor chave {min(d1)}')"
      ],
      "metadata": {
        "colab": {
          "base_uri": "https://localhost:8080/"
        },
        "id": "K2C4zEzcDgwi",
        "outputId": "6a037d73-22d8-466d-e31a-408a2f0662ad"
      },
      "execution_count": null,
      "outputs": [
        {
          "output_type": "stream",
          "name": "stdout",
          "text": [
            "Maior chave zero e a menor chave dois\n"
          ]
        }
      ]
    },
    {
      "cell_type": "code",
      "source": [
        "#Adiciona elementos a um outro dicionário\n",
        "d1.update({'cinco': 5, 'seis': 6})\n",
        "print(d1)"
      ],
      "metadata": {
        "colab": {
          "base_uri": "https://localhost:8080/"
        },
        "id": "EF-dTvaFErGt",
        "outputId": "7757ae59-0fee-42bd-97e5-b4aa3d5540a7"
      },
      "execution_count": null,
      "outputs": [
        {
          "output_type": "stream",
          "name": "stdout",
          "text": [
            "{'zero': 0, 'um': 1, 'dois': 2, 'tres': 3, 'quatro': 4, 'cinco': 5, 'seis': 6}\n"
          ]
        }
      ]
    },
    {
      "cell_type": "code",
      "source": [
        "#Verifica se o dicionario possui as seguintes chaves:\n",
        "print(\"A chave 'dois' está no dicionário?\", 'dois' in d1)\n",
        "print(\"A chave 'cinco' está no dicionário?\", 'cinco' in d1)"
      ],
      "metadata": {
        "colab": {
          "base_uri": "https://localhost:8080/"
        },
        "id": "tIE8KX8lFIpu",
        "outputId": "9c685f45-e03e-4722-8bc6-fd8e575a4f1f"
      },
      "execution_count": null,
      "outputs": [
        {
          "output_type": "stream",
          "name": "stdout",
          "text": [
            "A chave 'dois' está no dicionário? True\n",
            "A chave 'cinco' está no dicionário? True\n"
          ]
        }
      ]
    },
    {
      "cell_type": "code",
      "source": [
        "#Removo o elemento com a chave 'zero'\n",
        "d1.pop('seis')\n",
        "print(d1)"
      ],
      "metadata": {
        "colab": {
          "base_uri": "https://localhost:8080/"
        },
        "id": "Pm_QYehuFnHh",
        "outputId": "a6eca46f-3f3b-4439-d071-8834b0dd18c3"
      },
      "execution_count": null,
      "outputs": [
        {
          "output_type": "stream",
          "name": "stdout",
          "text": [
            "{'um': 1, 'dois': 2, 'tres': 3, 'quatro': 4, 'cinco': 5}\n"
          ]
        }
      ]
    },
    {
      "cell_type": "markdown",
      "source": [
        "#Interação sobre os dicionários"
      ],
      "metadata": {
        "id": "-0dd-OQvF14c"
      }
    },
    {
      "cell_type": "code",
      "source": [
        "#Cria o dicionario\n",
        "d1 = {'zero': 0, 'um':1, 'dois': 2, 'três': 3, 'quatro': 4, 'dez': 10}\n",
        "\n",
        "#Intera sobre as chaves\n",
        "for key in d1:\n",
        "  if key == 'três':\n",
        "    print('Foi encontrada a chave', key)\n",
        "    break\n",
        "\n",
        "for key in d1.keys():\n",
        "  if key == 'dez':\n",
        "    print('Foi encontrada a chave', key)\n",
        "    break\n"
      ],
      "metadata": {
        "colab": {
          "base_uri": "https://localhost:8080/"
        },
        "id": "zQw5mfFDF7hM",
        "outputId": "c352b2a2-4a78-4324-d9aa-2cef33f3a203"
      },
      "execution_count": null,
      "outputs": [
        {
          "output_type": "stream",
          "name": "stdout",
          "text": [
            "Foi encontrada a chave três\n",
            "Foi encontrada a chave dez\n"
          ]
        }
      ]
    },
    {
      "cell_type": "code",
      "source": [
        "#Intera sobre os valores\n",
        "soma = 0\n",
        "for value in d1.values():\n",
        "  soma = soma + value\n",
        "\n",
        "print(soma)"
      ],
      "metadata": {
        "colab": {
          "base_uri": "https://localhost:8080/"
        },
        "id": "6XJ1YpJ6Jw-t",
        "outputId": "3c490111-3caf-4e1e-9b35-4f01d9a99fdd"
      },
      "execution_count": null,
      "outputs": [
        {
          "output_type": "stream",
          "name": "stdout",
          "text": [
            "20\n"
          ]
        }
      ]
    },
    {
      "cell_type": "code",
      "source": [
        "#Intera sobre os itens\n",
        "for key, value in d1.items():\n",
        "  print(key, value)"
      ],
      "metadata": {
        "colab": {
          "base_uri": "https://localhost:8080/"
        },
        "id": "_wXZOwzTKMN9",
        "outputId": "9af5814f-89a2-4148-81b5-dee3c1f47589"
      },
      "execution_count": null,
      "outputs": [
        {
          "output_type": "stream",
          "name": "stdout",
          "text": [
            "zero 0\n",
            "um 1\n",
            "dois 2\n",
            "três 3\n",
            "quatro 4\n",
            "dez 10\n"
          ]
        }
      ]
    },
    {
      "cell_type": "code",
      "source": [
        "#Valor máximo\n",
        "print(max(list(d1.values())))\n"
      ],
      "metadata": {
        "colab": {
          "base_uri": "https://localhost:8080/"
        },
        "id": "owF-PVFuKuMc",
        "outputId": "1777ff6e-7b97-4ecf-df0e-90cf9764cc05"
      },
      "execution_count": null,
      "outputs": [
        {
          "output_type": "stream",
          "name": "stdout",
          "text": [
            "10\n"
          ]
        }
      ]
    },
    {
      "cell_type": "code",
      "source": [
        "dic = {}\n",
        "dic['chave'] = 99\n",
        "dic"
      ],
      "metadata": {
        "colab": {
          "base_uri": "https://localhost:8080/"
        },
        "id": "ou0i8NGqLfl3",
        "outputId": "c72e300e-eee8-463d-890a-e9faf2992105"
      },
      "execution_count": null,
      "outputs": [
        {
          "output_type": "execute_result",
          "data": {
            "text/plain": [
              "{'chave': 99}"
            ]
          },
          "metadata": {},
          "execution_count": 93
        }
      ]
    }
  ]
}