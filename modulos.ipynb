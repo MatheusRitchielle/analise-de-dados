{
  "nbformat": 4,
  "nbformat_minor": 0,
  "metadata": {
    "colab": {
      "provenance": [],
      "collapsed_sections": [],
      "authorship_tag": "ABX9TyNYigQK+9mJY3RTrs+brpfM",
      "include_colab_link": true
    },
    "kernelspec": {
      "name": "python3",
      "display_name": "Python 3"
    },
    "language_info": {
      "name": "python"
    }
  },
  "cells": [
    {
      "cell_type": "markdown",
      "metadata": {
        "id": "view-in-github",
        "colab_type": "text"
      },
      "source": [
        "<a href=\"https://colab.research.google.com/github/MatheusRitchielle/fundamentos-python/blob/main/modulos.ipynb\" target=\"_parent\"><img src=\"https://colab.research.google.com/assets/colab-badge.svg\" alt=\"Open In Colab\"/></a>"
      ]
    },
    {
      "cell_type": "markdown",
      "source": [
        "#Criação e importação de Módulos"
      ],
      "metadata": {
        "id": "JqvgFgq3RKql"
      }
    },
    {
      "cell_type": "code",
      "source": [
        "# define o valor de PI\n",
        "PI = 3.141592\n",
        "\n",
        "# calcula a área do quadrado\n",
        "def quadrado(l):\n",
        "  return l ** 2\n",
        "\n",
        "# calcula a área de uma triângulo\n",
        "def triangulo(b, h):\n",
        "  return(b * h)/2\n",
        "\n",
        "# calcula a área do circulo\n",
        "def circulo(r):\n",
        "  return PI * (r ** 2)\n",
        "\n",
        "#  calcula a área de uma elipse\n",
        "def elipse(a, b):\n",
        "  return PI * a * b\n",
        "\n",
        "# calcula a área de uma trapézio\n",
        "def trapezio(B, b, h):\n",
        "  return(B + b) * h / 2"
      ],
      "metadata": {
        "id": "-hkkpTFNRo2h"
      },
      "execution_count": null,
      "outputs": []
    },
    {
      "cell_type": "code",
      "source": [
        "# importa todas as funções do módulo\n",
        "import areas"
      ],
      "metadata": {
        "id": "17OLD-kvS78T"
      },
      "execution_count": 10,
      "outputs": []
    },
    {
      "cell_type": "code",
      "source": [
        "areas.triangulo(5, 8)"
      ],
      "metadata": {
        "id": "ucT9TzC0TABW"
      },
      "execution_count": null,
      "outputs": []
    },
    {
      "cell_type": "code",
      "source": [
        "# importa apenas uma função do módulo\n",
        "from areas import triangulo"
      ],
      "metadata": {
        "id": "NvMD4aMNTE3I"
      },
      "execution_count": 3,
      "outputs": []
    },
    {
      "cell_type": "code",
      "source": [
        "triangulo(5,8)"
      ],
      "metadata": {
        "colab": {
          "base_uri": "https://localhost:8080/"
        },
        "id": "OnmBioQFTTUt",
        "outputId": "c9016513-dfeb-49d3-cae8-6dec77b2a7a7"
      },
      "execution_count": 4,
      "outputs": [
        {
          "output_type": "execute_result",
          "data": {
            "text/plain": [
              "20.0"
            ]
          },
          "metadata": {},
          "execution_count": 4
        }
      ]
    },
    {
      "cell_type": "code",
      "source": [
        "areas.quadrado(6)"
      ],
      "metadata": {
        "colab": {
          "base_uri": "https://localhost:8080/"
        },
        "id": "gE_FCyQmThgO",
        "outputId": "cda02c0d-2b8a-4b2d-f79c-034e679f2490"
      },
      "execution_count": 5,
      "outputs": [
        {
          "output_type": "execute_result",
          "data": {
            "text/plain": [
              "36"
            ]
          },
          "metadata": {},
          "execution_count": 5
        }
      ]
    },
    {
      "cell_type": "code",
      "source": [
        "# importa todas as funções do módulo\n",
        "from areas import *"
      ],
      "metadata": {
        "id": "TSn_1InATmQQ"
      },
      "execution_count": 6,
      "outputs": []
    },
    {
      "cell_type": "code",
      "source": [
        "quadrado(6)"
      ],
      "metadata": {
        "colab": {
          "base_uri": "https://localhost:8080/"
        },
        "id": "NOHqnw0QTrAi",
        "outputId": "aa32e72c-a06f-4944-81ca-c461457852c9"
      },
      "execution_count": 7,
      "outputs": [
        {
          "output_type": "execute_result",
          "data": {
            "text/plain": [
              "36"
            ]
          },
          "metadata": {},
          "execution_count": 7
        }
      ]
    },
    {
      "cell_type": "code",
      "source": [
        "PI"
      ],
      "metadata": {
        "colab": {
          "base_uri": "https://localhost:8080/"
        },
        "id": "30dw1HP4TvXD",
        "outputId": "d78d2bcb-c337-443a-cc62-071634148340"
      },
      "execution_count": 8,
      "outputs": [
        {
          "output_type": "execute_result",
          "data": {
            "text/plain": [
              "3.141592"
            ]
          },
          "metadata": {},
          "execution_count": 8
        }
      ]
    },
    {
      "cell_type": "code",
      "source": [
        "# renomeação do módulo\n",
        "import areas as ar"
      ],
      "metadata": {
        "id": "acngQO_ZTwe1"
      },
      "execution_count": 9,
      "outputs": []
    },
    {
      "cell_type": "code",
      "source": [
        "ar.triangulo(5,10)"
      ],
      "metadata": {
        "id": "ILS0sQ2vTz6y"
      },
      "execution_count": null,
      "outputs": []
    },
    {
      "cell_type": "code",
      "source": [
        "ar.quadrado(6)"
      ],
      "metadata": {
        "id": "9i0vMboxT3oe"
      },
      "execution_count": null,
      "outputs": []
    },
    {
      "cell_type": "markdown",
      "source": [
        "#Módulos embutidos do Python"
      ],
      "metadata": {
        "id": "-7JShcoUUdjZ"
      }
    },
    {
      "cell_type": "code",
      "source": [
        "import math\n",
        "print('Função cosseno:', math.cos(100))"
      ],
      "metadata": {
        "colab": {
          "base_uri": "https://localhost:8080/"
        },
        "id": "dyW9b5YEVfbU",
        "outputId": "48def171-2237-49ff-a42c-be39f0df99f4"
      },
      "execution_count": 13,
      "outputs": [
        {
          "output_type": "stream",
          "name": "stdout",
          "text": [
            "Função cosseno: 0.8623188722876839\n"
          ]
        }
      ]
    },
    {
      "cell_type": "code",
      "source": [
        "print('Função log:', math.log(10))"
      ],
      "metadata": {
        "colab": {
          "base_uri": "https://localhost:8080/"
        },
        "id": "27aAHdw0Vszt",
        "outputId": "72e41c22-92dc-4277-af44-29fec8b898dd"
      },
      "execution_count": 15,
      "outputs": [
        {
          "output_type": "stream",
          "name": "stdout",
          "text": [
            "Função log: 2.302585092994046\n"
          ]
        }
      ]
    },
    {
      "cell_type": "code",
      "source": [
        "import itertools\n",
        "\n",
        "# combinação de 3 em 3\n",
        "print(list(itertools.combinations('ABCDE', 3)))"
      ],
      "metadata": {
        "colab": {
          "base_uri": "https://localhost:8080/"
        },
        "id": "YK4Ub-ZrV1vf",
        "outputId": "8d1f2f33-a041-4553-994a-17b70e7f75d4"
      },
      "execution_count": 16,
      "outputs": [
        {
          "output_type": "stream",
          "name": "stdout",
          "text": [
            "[('A', 'B', 'C'), ('A', 'B', 'D'), ('A', 'B', 'E'), ('A', 'C', 'D'), ('A', 'C', 'E'), ('A', 'D', 'E'), ('B', 'C', 'D'), ('B', 'C', 'E'), ('B', 'D', 'E'), ('C', 'D', 'E')]\n"
          ]
        }
      ]
    },
    {
      "cell_type": "code",
      "source": [
        "print(list(itertools.permutations(['a', 'b', 'c', 2])))"
      ],
      "metadata": {
        "colab": {
          "base_uri": "https://localhost:8080/"
        },
        "id": "HmmiNlbKWI0q",
        "outputId": "5f7e3f7b-2bdd-4c12-b64e-08c2e69d14f7"
      },
      "execution_count": 17,
      "outputs": [
        {
          "output_type": "stream",
          "name": "stdout",
          "text": [
            "[('a', 'b', 'c', 2), ('a', 'b', 2, 'c'), ('a', 'c', 'b', 2), ('a', 'c', 2, 'b'), ('a', 2, 'b', 'c'), ('a', 2, 'c', 'b'), ('b', 'a', 'c', 2), ('b', 'a', 2, 'c'), ('b', 'c', 'a', 2), ('b', 'c', 2, 'a'), ('b', 2, 'a', 'c'), ('b', 2, 'c', 'a'), ('c', 'a', 'b', 2), ('c', 'a', 2, 'b'), ('c', 'b', 'a', 2), ('c', 'b', 2, 'a'), ('c', 2, 'a', 'b'), ('c', 2, 'b', 'a'), (2, 'a', 'b', 'c'), (2, 'a', 'c', 'b'), (2, 'b', 'a', 'c'), (2, 'b', 'c', 'a'), (2, 'c', 'a', 'b'), (2, 'c', 'b', 'a')]\n"
          ]
        }
      ]
    },
    {
      "cell_type": "code",
      "source": [
        "from datetime import datetime, timedelta\n",
        "print('Datetime atual:',datetime.now())\n",
        "print('Datetime após 7 dias:', datetime.now() + timedelta(days=7))"
      ],
      "metadata": {
        "colab": {
          "base_uri": "https://localhost:8080/"
        },
        "id": "1MbIHGutWYfF",
        "outputId": "75d1a268-8f27-4092-e0e6-a7ad24493d63"
      },
      "execution_count": 20,
      "outputs": [
        {
          "output_type": "stream",
          "name": "stdout",
          "text": [
            "Datetime atual: 2022-11-03 02:39:28.264431\n",
            "Datetime após 7 dias: 2022-11-10 02:39:28.265255\n"
          ]
        }
      ]
    },
    {
      "cell_type": "code",
      "source": [
        "import random\n",
        "print('Número aleatório entre 0 e 1', random.random())"
      ],
      "metadata": {
        "colab": {
          "base_uri": "https://localhost:8080/"
        },
        "id": "CtByFvOyWoWk",
        "outputId": "219631e9-35fe-4aa7-e9ff-17a11ffcc788"
      },
      "execution_count": 21,
      "outputs": [
        {
          "output_type": "stream",
          "name": "stdout",
          "text": [
            "Número aleatório entre 0 e 1 0.7793988570064513\n"
          ]
        }
      ]
    },
    {
      "cell_type": "code",
      "source": [
        "print('Inteiro aleario entre 50 e 100:', random.randint(50,100))"
      ],
      "metadata": {
        "colab": {
          "base_uri": "https://localhost:8080/"
        },
        "id": "lvncqPoGXV0M",
        "outputId": "7e01c808-bfcd-45b2-c1c7-41aead4cb10a"
      },
      "execution_count": 24,
      "outputs": [
        {
          "output_type": "stream",
          "name": "stdout",
          "text": [
            "Inteiro aleario entre 50 e 100: 78\n"
          ]
        }
      ]
    },
    {
      "cell_type": "code",
      "source": [
        "import os\n",
        "os.mkdir('abacaxi') # cria um diretório chamado pasta"
      ],
      "metadata": {
        "id": "xgVgcawoXlLZ"
      },
      "execution_count": 25,
      "outputs": []
    },
    {
      "cell_type": "code",
      "source": [
        "nome_pasta =  'abacaxi'\n",
        "print('Caminho completo:', os.path.join('/home/antonio', nome_pasta, 'arquivo.txt'))"
      ],
      "metadata": {
        "colab": {
          "base_uri": "https://localhost:8080/"
        },
        "id": "3WZuoUoqX8T5",
        "outputId": "12fd7147-b1d3-4273-c1be-4ed7fd26d1bc"
      },
      "execution_count": 28,
      "outputs": [
        {
          "output_type": "stream",
          "name": "stdout",
          "text": [
            "Caminho completo: /home/antonio/abacaxi/arquivo.txt\n"
          ]
        }
      ]
    },
    {
      "cell_type": "code",
      "source": [
        "f'/home/antonio/{nome_pasta}/arquivo.txt'"
      ],
      "metadata": {
        "colab": {
          "base_uri": "https://localhost:8080/",
          "height": 36
        },
        "id": "NOFkjctGYbFe",
        "outputId": "b98243f9-8579-4ce1-d3d1-e0809eec2fb4"
      },
      "execution_count": 29,
      "outputs": [
        {
          "output_type": "execute_result",
          "data": {
            "text/plain": [
              "'/home/antonio/abacaxi/arquivo.txt'"
            ],
            "application/vnd.google.colaboratory.intrinsic+json": {
              "type": "string"
            }
          },
          "metadata": {},
          "execution_count": 29
        }
      ]
    },
    {
      "cell_type": "code",
      "source": [],
      "metadata": {
        "id": "0q6eBTfAYusD"
      },
      "execution_count": null,
      "outputs": []
    },
    {
      "cell_type": "markdown",
      "source": [
        "#Instalação de novos módulos"
      ],
      "metadata": {
        "id": "xDnhR1CLY0Re"
      }
    },
    {
      "cell_type": "code",
      "source": [],
      "metadata": {
        "id": "wuVxbcahZAs7"
      },
      "execution_count": null,
      "outputs": []
    }
  ]
}