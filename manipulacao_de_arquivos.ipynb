{
  "nbformat": 4,
  "nbformat_minor": 0,
  "metadata": {
    "colab": {
      "provenance": [],
      "collapsed_sections": [
        "BaRSgHH0BAD3"
      ],
      "authorship_tag": "ABX9TyMXWCSQASsjcTbStXxgnhsk",
      "include_colab_link": true
    },
    "kernelspec": {
      "name": "python3",
      "display_name": "Python 3"
    },
    "language_info": {
      "name": "python"
    }
  },
  "cells": [
    {
      "cell_type": "markdown",
      "metadata": {
        "id": "view-in-github",
        "colab_type": "text"
      },
      "source": [
        "<a href=\"https://colab.research.google.com/github/MatheusRitchielle/fundamentos-python/blob/main/manipulacao_de_arquivos.ipynb\" target=\"_parent\"><img src=\"https://colab.research.google.com/assets/colab-badge.svg\" alt=\"Open In Colab\"/></a>"
      ]
    },
    {
      "cell_type": "markdown",
      "source": [
        "#Criação, abertura e fechamento de arquivos\n"
      ],
      "metadata": {
        "id": "N0_nLQKh9gdb"
      }
    },
    {
      "cell_type": "code",
      "source": [
        "# 'r' Modo somente de leitura (modo padrão)\n",
        "# 'w' Modo de escrita. Cria um arquivo, caso ainda não exista, ou substitui o arquivo atual\n",
        "# 'x' Modo de escrita. Cria um arquivo e caso o arquivo existir retorna -um erro.\n",
        "# 'a' Modo de escrita. Cria um arquivo, caso ainda não exista. Se o arquivo existir, novas escritas serão adicionadas no final dele\n",
        "# 't' Abre o arquivo no modo texto(modo padrão\n",
        "# 'b' Abre o arquivo no modo binario"
      ],
      "metadata": {
        "id": "0pEz1Hoo-NJe"
      },
      "execution_count": null,
      "outputs": []
    },
    {
      "cell_type": "code",
      "source": [
        "arquivo = open('arquivo_somente_leitura.txt', 'r')\n",
        "# realizaria as operações de leitura\n",
        "arquivo.close()"
      ],
      "metadata": {
        "id": "MPRzaJ4f9mJn"
      },
      "execution_count": 2,
      "outputs": []
    },
    {
      "cell_type": "code",
      "source": [
        "arquivo = open('valores.txt', 'w')\n",
        "#realiza operações de escrita\n",
        "arquivo.close()"
      ],
      "metadata": {
        "id": "CB1MNwIR-DtW"
      },
      "execution_count": 5,
      "outputs": []
    },
    {
      "cell_type": "code",
      "source": [
        "#Vamos adicionar algum conteúdo manualmente"
      ],
      "metadata": {
        "id": "L3xoo7JI_Rrc"
      },
      "execution_count": 3,
      "outputs": []
    },
    {
      "cell_type": "code",
      "source": [
        "arquivo = open('valores.txt', 'w')\n",
        "arquivo.close()"
      ],
      "metadata": {
        "id": "ZgxNc9Nc_WrM"
      },
      "execution_count": null,
      "outputs": []
    },
    {
      "cell_type": "code",
      "source": [
        "#Vamos adicionar algum conteúdo manualmente"
      ],
      "metadata": {
        "id": "riQZy4pT_eqQ"
      },
      "execution_count": null,
      "outputs": []
    },
    {
      "cell_type": "code",
      "source": [
        "arquivo = open('valores.txt', 'x')\n",
        "arquivo.close()"
      ],
      "metadata": {
        "id": "pC-2sGSFATaf"
      },
      "execution_count": null,
      "outputs": []
    },
    {
      "cell_type": "code",
      "source": [
        "arquivo = open('valores.txt', 'at')\n",
        "arquivo.close()"
      ],
      "metadata": {
        "id": "SIHaBQSDAmg2"
      },
      "execution_count": 8,
      "outputs": []
    },
    {
      "cell_type": "markdown",
      "source": [
        "#Realizando leitura de arquivos de texto"
      ],
      "metadata": {
        "id": "BaRSgHH0BAD3"
      }
    },
    {
      "cell_type": "markdown",
      "source": [
        "Dados do arquivo:\n",
        "\n",
        "![image.png](data:image/png;base64,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)"
      ],
      "metadata": {
        "id": "cQQrKnhMGGSY"
      }
    },
    {
      "cell_type": "code",
      "source": [
        "arquivo = open('cidades.txt', 'w')\n",
        "arquivo.close()"
      ],
      "metadata": {
        "id": "C6d4-mIJBE7_"
      },
      "execution_count": 9,
      "outputs": []
    },
    {
      "cell_type": "code",
      "source": [
        "arquivo = open('cidades.txt', 'r')\n",
        "linhas = arquivo.read()\n",
        "arquivo.close()\n",
        "print(linhas)"
      ],
      "metadata": {
        "colab": {
          "base_uri": "https://localhost:8080/"
        },
        "id": "K73rY4uDBWgS",
        "outputId": "b5ab65ba-45bb-4e79-85fb-68e0ec77bbc4"
      },
      "execution_count": 12,
      "outputs": [
        {
          "output_type": "stream",
          "name": "stdout",
          "text": [
            "SP; São Paulo; 11895893\n",
            "RJ; Rio de Janeiro; 6453682\n",
            "BA; Salvador; 2902927\n",
            "DF; Brasília; 2852372\n",
            "CE; Fortaleza; 2571896\n",
            "MG; Belo Horizonte; 2491109\n",
            "AM; Manaus; 2020301\n",
            "PR; Curitiba; 1864416\n",
            "PE; Recife; 1608488\n",
            "RS; Porto Alegre; 1472482\n",
            "PA; Belém; 1432844\n",
            "GO; Goiânia; 1412364\n",
            "SP; Guarulhos; 1312197\n",
            "SP; Campinas; 1154617\n",
            "MA; São Luís; 1064197\n",
            "\n"
          ]
        }
      ]
    },
    {
      "cell_type": "code",
      "source": [
        "arquivo = open('cidades.txt', 'r')\n",
        "linhas = arquivo.readlines()\n",
        "arquivo.close()\n",
        "print(linhas)"
      ],
      "metadata": {
        "colab": {
          "base_uri": "https://localhost:8080/"
        },
        "id": "KZQ3RCUBDPHX",
        "outputId": "22145d11-3b20-483b-8015-4eca3e706dcd"
      },
      "execution_count": 13,
      "outputs": [
        {
          "output_type": "stream",
          "name": "stdout",
          "text": [
            "['SP; São Paulo; 11895893\\n', 'RJ; Rio de Janeiro; 6453682\\n', 'BA; Salvador; 2902927\\n', 'DF; Brasília; 2852372\\n', 'CE; Fortaleza; 2571896\\n', 'MG; Belo Horizonte; 2491109\\n', 'AM; Manaus; 2020301\\n', 'PR; Curitiba; 1864416\\n', 'PE; Recife; 1608488\\n', 'RS; Porto Alegre; 1472482\\n', 'PA; Belém; 1432844\\n', 'GO; Goiânia; 1412364\\n', 'SP; Guarulhos; 1312197\\n', 'SP; Campinas; 1154617\\n', 'MA; São Luís; 1064197\\n']\n"
          ]
        }
      ]
    },
    {
      "cell_type": "code",
      "source": [
        "novas_linhas = []\n",
        "for linha in linhas:\n",
        "  novas_linhas.append(linha.rstrip())\n",
        "print(novas_linhas)"
      ],
      "metadata": {
        "colab": {
          "base_uri": "https://localhost:8080/"
        },
        "id": "ReXVbLzdD89c",
        "outputId": "a45bd2e5-336d-43ae-a080-bf6ca4678f44"
      },
      "execution_count": 14,
      "outputs": [
        {
          "output_type": "stream",
          "name": "stdout",
          "text": [
            "['SP; São Paulo; 11895893', 'RJ; Rio de Janeiro; 6453682', 'BA; Salvador; 2902927', 'DF; Brasília; 2852372', 'CE; Fortaleza; 2571896', 'MG; Belo Horizonte; 2491109', 'AM; Manaus; 2020301', 'PR; Curitiba; 1864416', 'PE; Recife; 1608488', 'RS; Porto Alegre; 1472482', 'PA; Belém; 1432844', 'GO; Goiânia; 1412364', 'SP; Guarulhos; 1312197', 'SP; Campinas; 1154617', 'MA; São Luís; 1064197']\n"
          ]
        }
      ]
    },
    {
      "cell_type": "code",
      "source": [
        "arquivo = open('cidades.txt', 'r')\n",
        "for linha in linhas:\n",
        "  print(linha.rstrip())\n",
        "arquivo.close() "
      ],
      "metadata": {
        "colab": {
          "base_uri": "https://localhost:8080/"
        },
        "id": "kuz_3YpaEOyX",
        "outputId": "d31bf43b-4ed9-480c-a437-613d7c6b0943"
      },
      "execution_count": 15,
      "outputs": [
        {
          "output_type": "stream",
          "name": "stdout",
          "text": [
            "SP; São Paulo; 11895893\n",
            "RJ; Rio de Janeiro; 6453682\n",
            "BA; Salvador; 2902927\n",
            "DF; Brasília; 2852372\n",
            "CE; Fortaleza; 2571896\n",
            "MG; Belo Horizonte; 2491109\n",
            "AM; Manaus; 2020301\n",
            "PR; Curitiba; 1864416\n",
            "PE; Recife; 1608488\n",
            "RS; Porto Alegre; 1472482\n",
            "PA; Belém; 1432844\n",
            "GO; Goiânia; 1412364\n",
            "SP; Guarulhos; 1312197\n",
            "SP; Campinas; 1154617\n",
            "MA; São Luís; 1064197\n"
          ]
        }
      ]
    },
    {
      "cell_type": "code",
      "source": [
        "arquivo = open('cidades.txt', 'r')\n",
        "soma = 0\n",
        "for linha in arquivo:\n",
        "  cidade = linha.split(' ')\n",
        "  populacao = int(cidade[-1])\n",
        "  print(populacao)\n",
        "  soma =  soma + populacao\n",
        "arquivo.close()  \n",
        "print(f'Total da soma final é {soma}')"
      ],
      "metadata": {
        "colab": {
          "base_uri": "https://localhost:8080/"
        },
        "id": "FuZzXiX5ElKy",
        "outputId": "f1e01424-73e5-4ffe-bdc0-78db2994a039"
      },
      "execution_count": 21,
      "outputs": [
        {
          "output_type": "stream",
          "name": "stdout",
          "text": [
            "11895893\n",
            "6453682\n",
            "2902927\n",
            "2852372\n",
            "2571896\n",
            "2491109\n",
            "2020301\n",
            "1864416\n",
            "1608488\n",
            "1472482\n",
            "1432844\n",
            "1412364\n",
            "1312197\n",
            "1154617\n",
            "1064197\n",
            "Total da soma final é 42509785\n"
          ]
        }
      ]
    },
    {
      "cell_type": "markdown",
      "source": [],
      "metadata": {
        "id": "LBpb7sNQGg_f"
      }
    },
    {
      "cell_type": "markdown",
      "source": [
        "#Escrita de arquivos\n"
      ],
      "metadata": {
        "id": "ddwEtksQGiSv"
      }
    },
    {
      "cell_type": "code",
      "source": [
        "arquivo = open('cidades.txt', 'a')\n",
        "arquivo.write('RJ; São Gonçalo; 1031903\\n')\n",
        "arquivo.close()"
      ],
      "metadata": {
        "id": "x8evnD8IGjSI"
      },
      "execution_count": 23,
      "outputs": []
    },
    {
      "cell_type": "code",
      "source": [
        "linhas = [\n",
        "    'AL; Maceió; 1005319\\n'\n",
        "    'RJ; Duque de Caxias; 878402\\n'\n",
        "    'RN; Natal; 862044\\n'\n",
        "    'MS; Campo Grande; 843120\\n'\n",
        "]\n",
        "arquivo = open('cidades.txt', 'a')\n",
        "arquivo.writelines(linhas)\n",
        "arquivo.close()"
      ],
      "metadata": {
        "id": "Xh3DrNGgHMBM"
      },
      "execution_count": 24,
      "outputs": []
    }
  ]
}