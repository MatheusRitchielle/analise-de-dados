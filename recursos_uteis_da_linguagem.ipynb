{
  "nbformat": 4,
  "nbformat_minor": 0,
  "metadata": {
    "colab": {
      "provenance": [],
      "collapsed_sections": [],
      "authorship_tag": "ABX9TyPJlIQXjosQNrp+55coPy0g",
      "include_colab_link": true
    },
    "kernelspec": {
      "name": "python3",
      "display_name": "Python 3"
    },
    "language_info": {
      "name": "python"
    }
  },
  "cells": [
    {
      "cell_type": "markdown",
      "metadata": {
        "id": "view-in-github",
        "colab_type": "text"
      },
      "source": [
        "<a href=\"https://colab.research.google.com/github/MatheusRitchielle/fundamentos-python/blob/main/recursos_uteis_da_linguagem.ipynb\" target=\"_parent\"><img src=\"https://colab.research.google.com/assets/colab-badge.svg\" alt=\"Open In Colab\"/></a>"
      ]
    },
    {
      "cell_type": "markdown",
      "source": [
        "#Compreensão de listas\n",
        "\n"
      ],
      "metadata": {
        "id": "o1KxdFLKIVdC"
      }
    },
    {
      "cell_type": "code",
      "source": [
        "# Cria uma lista com números de 1 a 10 elevados à 2\n",
        "potencias = []\n",
        "for item in range(1, 11):\n",
        "  potencias.append(item ** 2)\n",
        "print(potencias)"
      ],
      "metadata": {
        "colab": {
          "base_uri": "https://localhost:8080/"
        },
        "id": "8EMShY5wIYst",
        "outputId": "91af0a18-af4f-4ab8-bcba-d30805675cfd"
      },
      "execution_count": 1,
      "outputs": [
        {
          "output_type": "stream",
          "name": "stdout",
          "text": [
            "[1, 4, 9, 16, 25, 36, 49, 64, 81, 100]\n"
          ]
        }
      ]
    },
    {
      "cell_type": "code",
      "source": [
        "# Podemos reescreve a mesma operação de outra forma, utilizando list comprehension\n",
        "potencias = [item ** 2 for item in range(1, 11)]\n",
        "print(potencias)"
      ],
      "metadata": {
        "colab": {
          "base_uri": "https://localhost:8080/"
        },
        "id": "0gT-EiA9JEwV",
        "outputId": "0831d72e-1aac-42a2-e590-64514684d3fc"
      },
      "execution_count": 2,
      "outputs": [
        {
          "output_type": "stream",
          "name": "stdout",
          "text": [
            "[1, 4, 9, 16, 25, 36, 49, 64, 81, 100]\n"
          ]
        }
      ]
    },
    {
      "cell_type": "code",
      "source": [
        "# Multiplica por 10 is números de 1 a 15\n",
        "[n * 10 for n in range(1, 16)]"
      ],
      "metadata": {
        "colab": {
          "base_uri": "https://localhost:8080/"
        },
        "id": "4XbFkIXtJfda",
        "outputId": "4236d40b-063a-49ec-9449-7ffcfa0d0a53"
      },
      "execution_count": 3,
      "outputs": [
        {
          "output_type": "execute_result",
          "data": {
            "text/plain": [
              "[10, 20, 30, 40, 50, 60, 70, 80, 90, 100, 110, 120, 130, 140, 150]"
            ]
          },
          "metadata": {},
          "execution_count": 3
        }
      ]
    },
    {
      "cell_type": "code",
      "source": [
        "#Cria uma lista com os caractéres em maiúsculo\n",
        "[c.upper() for c in 'matheus']"
      ],
      "metadata": {
        "colab": {
          "base_uri": "https://localhost:8080/"
        },
        "id": "cXsU6_pvJvo3",
        "outputId": "3fbe44bb-6485-4942-bdef-254e5cb710de"
      },
      "execution_count": 4,
      "outputs": [
        {
          "output_type": "execute_result",
          "data": {
            "text/plain": [
              "['M', 'A', 'T', 'H', 'E', 'U', 'S']"
            ]
          },
          "metadata": {},
          "execution_count": 4
        }
      ]
    },
    {
      "cell_type": "code",
      "source": [
        "# indica se n é par ou não\n",
        "[(n % 2 == 0) for n in range(0,10)]"
      ],
      "metadata": {
        "colab": {
          "base_uri": "https://localhost:8080/"
        },
        "id": "6lLZhgVoJ-Ar",
        "outputId": "dec0bf4b-9383-49c0-e49b-2996c82e5991"
      },
      "execution_count": 6,
      "outputs": [
        {
          "output_type": "execute_result",
          "data": {
            "text/plain": [
              "[True, False, True, False, True, False, True, False, True, False]"
            ]
          },
          "metadata": {},
          "execution_count": 6
        }
      ]
    },
    {
      "cell_type": "code",
      "source": [
        "# Criar uma lista de com os números  ÍMPARES de 1 a 10 elevados a 2\n",
        "potencias = []\n",
        "for item in range(1,10):\n",
        "  if item % 2 != 0:\n",
        "    potencias.append(item ** 2)\n",
        "print(potencias)"
      ],
      "metadata": {
        "colab": {
          "base_uri": "https://localhost:8080/"
        },
        "id": "qBNwLLAUKOqf",
        "outputId": "261ce757-09f2-40a4-a334-cca2568ff515"
      },
      "execution_count": 7,
      "outputs": [
        {
          "output_type": "stream",
          "name": "stdout",
          "text": [
            "[1, 9, 25, 49, 81]\n"
          ]
        }
      ]
    },
    {
      "cell_type": "code",
      "source": [
        "# Também podemso reescrever utilizando list comprehension com verificação condicional\n",
        "potencias = [item ** 2 for item in range(1,11) if item % 2 !=0 ]\n",
        "print(potencias)"
      ],
      "metadata": {
        "colab": {
          "base_uri": "https://localhost:8080/"
        },
        "id": "pQKavtC5K4a-",
        "outputId": "1896cf1f-26ef-45bb-9858-db30f4b0acfd"
      },
      "execution_count": 10,
      "outputs": [
        {
          "output_type": "stream",
          "name": "stdout",
          "text": [
            "[1, 9, 25, 49, 81]\n"
          ]
        }
      ]
    },
    {
      "cell_type": "markdown",
      "source": [
        "#Compreensão de dicionários"
      ],
      "metadata": {
        "id": "lN23f5TyLt7-"
      }
    },
    {
      "cell_type": "code",
      "source": [
        "#Todos os números elevados à potência 2\n",
        "dict_todos = {}\n",
        "for item in range(1,11):\n",
        "  dict_todos[item] = item ** 2\n",
        "print('Todos os números:', dict_todos)"
      ],
      "metadata": {
        "colab": {
          "base_uri": "https://localhost:8080/"
        },
        "id": "qvdiFytCLSJY",
        "outputId": "d4d2c8bf-264c-4e74-e1c9-c243f1f73c2d"
      },
      "execution_count": 11,
      "outputs": [
        {
          "output_type": "stream",
          "name": "stdout",
          "text": [
            "Todos os números: {1: 1, 2: 4, 3: 9, 4: 16, 5: 25, 6: 36, 7: 49, 8: 64, 9: 81, 10: 100}\n"
          ]
        }
      ]
    },
    {
      "cell_type": "code",
      "source": [
        "# Podemos reescrever a mesma operação de outra forma, ultilizando o dict comprehension\n",
        "dict_todos = {item: item ** 2 for item in range(1,11)}\n",
        "print('Todos os números:', dict_todos)"
      ],
      "metadata": {
        "colab": {
          "base_uri": "https://localhost:8080/"
        },
        "id": "d5gzytJMMTwu",
        "outputId": "d9c8c68c-844a-4810-fc36-c44d25108a87"
      },
      "execution_count": 12,
      "outputs": [
        {
          "output_type": "stream",
          "name": "stdout",
          "text": [
            "Todos os números: {1: 1, 2: 4, 3: 9, 4: 16, 5: 25, 6: 36, 7: 49, 8: 64, 9: 81, 10: 100}\n"
          ]
        }
      ]
    },
    {
      "cell_type": "code",
      "source": [
        "# Apenas os ímpares elevado à potência 2\n",
        "dict_impares = {}\n",
        "for item in range(1,11):\n",
        "  if item % 2 !=0:\n",
        "    dict_impares[item] = item ** 2\n",
        "print('Números ímpares:', dict_impares)"
      ],
      "metadata": {
        "colab": {
          "base_uri": "https://localhost:8080/"
        },
        "id": "xVKLEZsJMrjU",
        "outputId": "158c6dee-28f5-44ce-939a-0ef09c8b29e0"
      },
      "execution_count": 13,
      "outputs": [
        {
          "output_type": "stream",
          "name": "stdout",
          "text": [
            "Números ímpares: {1: 1, 3: 9, 5: 25, 7: 49, 9: 81}\n"
          ]
        }
      ]
    },
    {
      "cell_type": "code",
      "source": [
        "# Também podemos reescrever ultilizando o dict comprehension com verificação condicional\n",
        "dict_impares = {item: item ** 2 for item in range(1,11) if item % 2 != 0}\n",
        "print('Números ímpares:', dict_impares)"
      ],
      "metadata": {
        "colab": {
          "base_uri": "https://localhost:8080/"
        },
        "id": "jriNfjFYNKqq",
        "outputId": "754a6dd8-d1d6-4843-af3e-ef5339752754"
      },
      "execution_count": 15,
      "outputs": [
        {
          "output_type": "stream",
          "name": "stdout",
          "text": [
            "Números ímpares: {1: 1, 3: 9, 5: 25, 7: 49, 9: 81}\n"
          ]
        }
      ]
    },
    {
      "cell_type": "markdown",
      "source": [
        "#Funções anônimas"
      ],
      "metadata": {
        "id": "BDhC0HUGO4ri"
      }
    },
    {
      "cell_type": "code",
      "source": [
        "# Declaração de função explicita (declaração tradicional)\n",
        "def area_quadrado(lado):\n",
        "  return lado * lado"
      ],
      "metadata": {
        "id": "Ijt9pK3xNinT"
      },
      "execution_count": 16,
      "outputs": []
    },
    {
      "cell_type": "code",
      "source": [
        "area_quadrado(5)"
      ],
      "metadata": {
        "colab": {
          "base_uri": "https://localhost:8080/"
        },
        "id": "rcx_pDQbPyl1",
        "outputId": "71bcdfcf-975c-4f66-acaf-047089baa90c"
      },
      "execution_count": 17,
      "outputs": [
        {
          "output_type": "execute_result",
          "data": {
            "text/plain": [
              "25"
            ]
          },
          "metadata": {},
          "execution_count": 17
        }
      ]
    },
    {
      "cell_type": "code",
      "source": [
        "#Declaração da função lambda\n",
        "area_quad = lambda lado: lado * lado\n",
        "\n",
        "#Utilização\n",
        "area_quad(4)"
      ],
      "metadata": {
        "colab": {
          "base_uri": "https://localhost:8080/"
        },
        "id": "G4sDzuDKP2rz",
        "outputId": "dbfcb260-62ae-4a7e-e13e-b6af0e63f570"
      },
      "execution_count": 18,
      "outputs": [
        {
          "output_type": "execute_result",
          "data": {
            "text/plain": [
              "16"
            ]
          },
          "metadata": {},
          "execution_count": 18
        }
      ]
    },
    {
      "cell_type": "code",
      "source": [
        "area_triangulo = lambda base, altura: (base * altura)/2\n",
        "area_triangulo(10,20)"
      ],
      "metadata": {
        "colab": {
          "base_uri": "https://localhost:8080/"
        },
        "id": "zp45_ywGQ0pu",
        "outputId": "37513d17-a533-46d7-892c-2dec04b62377"
      },
      "execution_count": 22,
      "outputs": [
        {
          "output_type": "execute_result",
          "data": {
            "text/plain": [
              "100.0"
            ]
          },
          "metadata": {},
          "execution_count": 22
        }
      ]
    },
    {
      "cell_type": "code",
      "source": [
        "#Verificação do tupo da variável\n",
        "type(area_quad)"
      ],
      "metadata": {
        "colab": {
          "base_uri": "https://localhost:8080/"
        },
        "id": "BzUy2NnrQDhr",
        "outputId": "8d14f0bc-a67d-4ccd-eb5b-23546d750a99"
      },
      "execution_count": 20,
      "outputs": [
        {
          "output_type": "execute_result",
          "data": {
            "text/plain": [
              "function"
            ]
          },
          "metadata": {},
          "execution_count": 20
        }
      ]
    },
    {
      "cell_type": "code",
      "source": [
        "#Função que calculo o tripo de número\n",
        "triplo = lambda x: x * 3"
      ],
      "metadata": {
        "id": "OUkAANZ4QLLu"
      },
      "execution_count": 23,
      "outputs": []
    },
    {
      "cell_type": "code",
      "source": [
        "#Calcula o tripo dos números de uma lista\n",
        "lista = [4, 5, 9, 7, 0, 8]\n",
        "list(map(triplo, lista))"
      ],
      "metadata": {
        "colab": {
          "base_uri": "https://localhost:8080/"
        },
        "id": "g5aApKHXRIiT",
        "outputId": "d014060d-f41c-4636-b265-a43f0117149d"
      },
      "execution_count": 24,
      "outputs": [
        {
          "output_type": "execute_result",
          "data": {
            "text/plain": [
              "[12, 15, 27, 21, 0, 24]"
            ]
          },
          "metadata": {},
          "execution_count": 24
        }
      ]
    },
    {
      "cell_type": "code",
      "source": [
        "# Podemos fazer de um jeito mai Pythonico ainda!\n",
        "list(map(lambda x: x ** 3, [4, 5, 9, 7, 0, 8]))"
      ],
      "metadata": {
        "colab": {
          "base_uri": "https://localhost:8080/"
        },
        "id": "iowDU0ZdRpzl",
        "outputId": "4ecfd0c7-c8fb-44a5-a579-9a65b039974a"
      },
      "execution_count": 26,
      "outputs": [
        {
          "output_type": "execute_result",
          "data": {
            "text/plain": [
              "[64, 125, 729, 343, 0, 512]"
            ]
          },
          "metadata": {},
          "execution_count": 26
        }
      ]
    },
    {
      "cell_type": "markdown",
      "source": [
        "#Atribuição condicional\n"
      ],
      "metadata": {
        "id": "4XVqibvvSZKZ"
      }
    },
    {
      "cell_type": "code",
      "source": [
        "# Sintaxe : valor_se_verdadeiro if condicao else valor_se_falso\n",
        "nome = 'Matheus'\n",
        "if len(nome) > 5: \n",
        "  var = 100\n",
        "else:\n",
        "  var = 0\n",
        "print('O valor de var é:', var)  "
      ],
      "metadata": {
        "colab": {
          "base_uri": "https://localhost:8080/"
        },
        "id": "dhvi-B7sScVU",
        "outputId": "5cf25cf7-921e-413e-9538-c7f9bf3d4385"
      },
      "execution_count": 27,
      "outputs": [
        {
          "output_type": "stream",
          "name": "stdout",
          "text": [
            "O valor de var é: 100\n"
          ]
        }
      ]
    },
    {
      "cell_type": "code",
      "source": [
        "nome = 'Matheus'\n",
        "var = 100 if len(nome) > 5 else 0\n",
        "print('O valor de var é:', var)"
      ],
      "metadata": {
        "colab": {
          "base_uri": "https://localhost:8080/"
        },
        "id": "8YrZRTG6Sqjl",
        "outputId": "fa34a9d3-0bff-40bc-e393-0fe3448eca15"
      },
      "execution_count": 28,
      "outputs": [
        {
          "output_type": "stream",
          "name": "stdout",
          "text": [
            "O valor de var é: 100\n"
          ]
        }
      ]
    },
    {
      "cell_type": "code",
      "source": [],
      "metadata": {
        "id": "Ko5pvVR8S6-c"
      },
      "execution_count": null,
      "outputs": []
    }
  ]
}